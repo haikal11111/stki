{
  "nbformat": 4,
  "nbformat_minor": 0,
  "metadata": {
    "kernelspec": {
      "display_name": "Python 3",
      "language": "python",
      "name": "python3"
    },
    "language_info": {
      "codemirror_mode": {
        "name": "ipython",
        "version": 3
      },
      "file_extension": ".py",
      "mimetype": "text/x-python",
      "name": "python",
      "nbconvert_exporter": "python",
      "pygments_lexer": "ipython3",
      "version": "3.8.6"
    },
    "colab": {
      "name": "UAS_Machine_Learning.ipynb",
      "provenance": [],
      "collapsed_sections": [],
      "include_colab_link": true
    }
  },
  "cells": [
    {
      "cell_type": "markdown",
      "metadata": {
        "id": "view-in-github",
        "colab_type": "text"
      },
      "source": [
        "<a href=\"https://colab.research.google.com/github/haikal11111/stki/blob/main/UAS%20Machine%20Learning%2017.01.53.2035.ipynb\" target=\"_parent\"><img src=\"https://colab.research.google.com/assets/colab-badge.svg\" alt=\"Open In Colab\"/></a>"
      ]
    },
    {
      "cell_type": "code",
      "metadata": {
        "id": "yg2U0agZOfi0"
      },
      "source": [
        "\n",
        "import numpy as np\n",
        "import pandas as pd\n",
        "import matplotlib.pyplot as plt\n",
        "\n",
        "from sklearn.linear_model import LinearRegression\n",
        "from sklearn import metrics\n",
        "from sklearn.metrics import mean_squared_error"
      ],
      "execution_count": 1,
      "outputs": []
    },
    {
      "cell_type": "code",
      "metadata": {
        "colab": {
          "base_uri": "https://localhost:8080/",
          "height": 204
        },
        "id": "MrdEqNGVQEU3",
        "outputId": "e47e29e2-35a5-4192-d625-af7265b12dcf"
      },
      "source": [
        "df = pd.DataFrame([[39343,1.1],[46205,1.3],[37731,1.5],[43525,2],[39891,2.2],[56642,2.9],[60150,3],[54445,3.2],[64445,3.2],[57189,3.7],[63218,3.9],[55794,4],[56957,4],[57081,4.1],[61111,4.5],[67938,4.9]])\r\n",
        "df.columns = ['y', 'x']\r\n",
        "df.head()"
      ],
      "execution_count": null,
      "outputs": [
        {
          "output_type": "execute_result",
          "data": {
            "text/html": [
              "<div>\n",
              "<style scoped>\n",
              "    .dataframe tbody tr th:only-of-type {\n",
              "        vertical-align: middle;\n",
              "    }\n",
              "\n",
              "    .dataframe tbody tr th {\n",
              "        vertical-align: top;\n",
              "    }\n",
              "\n",
              "    .dataframe thead th {\n",
              "        text-align: right;\n",
              "    }\n",
              "</style>\n",
              "<table border=\"1\" class=\"dataframe\">\n",
              "  <thead>\n",
              "    <tr style=\"text-align: right;\">\n",
              "      <th></th>\n",
              "      <th>y</th>\n",
              "      <th>x</th>\n",
              "    </tr>\n",
              "  </thead>\n",
              "  <tbody>\n",
              "    <tr>\n",
              "      <th>0</th>\n",
              "      <td>39343</td>\n",
              "      <td>1.1</td>\n",
              "    </tr>\n",
              "    <tr>\n",
              "      <th>1</th>\n",
              "      <td>46205</td>\n",
              "      <td>1.3</td>\n",
              "    </tr>\n",
              "    <tr>\n",
              "      <th>2</th>\n",
              "      <td>37731</td>\n",
              "      <td>1.5</td>\n",
              "    </tr>\n",
              "    <tr>\n",
              "      <th>3</th>\n",
              "      <td>43525</td>\n",
              "      <td>2.0</td>\n",
              "    </tr>\n",
              "    <tr>\n",
              "      <th>4</th>\n",
              "      <td>39891</td>\n",
              "      <td>2.2</td>\n",
              "    </tr>\n",
              "  </tbody>\n",
              "</table>\n",
              "</div>"
            ],
            "text/plain": [
              "       y    x\n",
              "0  39343  1.1\n",
              "1  46205  1.3\n",
              "2  37731  1.5\n",
              "3  43525  2.0\n",
              "4  39891  2.2"
            ]
          },
          "metadata": {
            "tags": []
          },
          "execution_count": 57
        }
      ]
    },
    {
      "cell_type": "code",
      "metadata": {
        "id": "rK15-C5ISkRQ"
      },
      "source": [
        "x_train = df['x'].values[:,np.newaxis]\r\n",
        "y_train = df['y'].values"
      ],
      "execution_count": null,
      "outputs": []
    },
    {
      "cell_type": "code",
      "metadata": {
        "colab": {
          "base_uri": "https://localhost:8080/"
        },
        "id": "LiSFBfZATOV8",
        "outputId": "7ed41b73-794f-40bb-9b18-85420ccca34b"
      },
      "source": [
        "lm = LinearRegression()\r\n",
        "lm.fit(x_train, y_train) #training data\r\n",
        "lm.coef_"
      ],
      "execution_count": null,
      "outputs": [
        {
          "output_type": "execute_result",
          "data": {
            "text/plain": [
              "array([7012.06609325])"
            ]
          },
          "metadata": {
            "tags": []
          },
          "execution_count": 59
        }
      ]
    },
    {
      "cell_type": "code",
      "metadata": {
        "colab": {
          "base_uri": "https://localhost:8080/"
        },
        "id": "XMndLlJJTZ3t",
        "outputId": "6a42373c-7cd7-4155-8f44-45bd354e8649"
      },
      "source": [
        "lm.intercept_"
      ],
      "execution_count": null,
      "outputs": [
        {
          "output_type": "execute_result",
          "data": {
            "text/plain": [
              "32160.48302399276"
            ]
          },
          "metadata": {
            "tags": []
          },
          "execution_count": 60
        }
      ]
    },
    {
      "cell_type": "code",
      "metadata": {
        "colab": {
          "base_uri": "https://localhost:8080/"
        },
        "id": "RaxTmh3kTfHG",
        "outputId": "b27386d3-b819-42b6-b524-4806a71bc0ba"
      },
      "source": [
        "x_test = [[6.8],[7.1],[7.9],[8.2],[8.7],[9],[9.5],[9.6],[10.3],[10.5]] #data yang akan dipresiksi\r\n",
        "p = lm.predict(x_test)\r\n",
        "print(p)\r\n",
        "type(p)"
      ],
      "execution_count": null,
      "outputs": [
        {
          "output_type": "stream",
          "text": [
            "[ 79842.53245813  81946.1522861   87555.80516071  89659.42498868\n",
            "  93165.45803531  95269.07786329  98775.11090991  99476.31751924\n",
            " 104384.76378452 105787.17700317]\n"
          ],
          "name": "stdout"
        },
        {
          "output_type": "execute_result",
          "data": {
            "text/plain": [
              "numpy.ndarray"
            ]
          },
          "metadata": {
            "tags": []
          },
          "execution_count": 61
        }
      ]
    },
    {
      "cell_type": "code",
      "metadata": {
        "colab": {
          "base_uri": "https://localhost:8080/",
          "height": 279
        },
        "id": "vc7X3D47UYhj",
        "outputId": "95cb59ed-a78e-4f98-f952-89a2b170f8c3"
      },
      "source": [
        "\r\n",
        "pb = lm.predict(x_train)\r\n",
        "dfc = pd.DataFrame({'x': df['x'], 'y':pb})\r\n",
        "plt.scatter(df['x'], df['y'])\r\n",
        "plt.plot(dfc['x'], dfc['y'], color='red', linewidth=1)\r\n",
        "plt.xlabel('Years Experience')\r\n",
        "plt.ylabel('Salary')\r\n",
        "plt.show()"
      ],
      "execution_count": null,
      "outputs": [
        {
          "output_type": "display_data",
          "data": {
            "image/png": "[encoded data removed]",
            "text/plain": [
              "<Figure size 432x288 with 1 Axes>"
            ]
          },
          "metadata": {
            "tags": [],
            "needs_background": "light"
          }
        }
      ]
    },
    {
      "cell_type": "code",
      "metadata": {
        "colab": {
          "base_uri": "https://localhost:8080/",
          "height": 279
        },
        "id": "npGqpOl9V133",
        "outputId": "9ac384ad-7e8c-4bfc-97d6-fad4f505239f"
      },
      "source": [
        "pb = lm.predict(x_train)\r\n",
        "dfc = pd.DataFrame({'x': df['x'], 'y':pb})\r\n",
        "\r\n",
        "pb1 = lm.predict(x_test)\r\n",
        "dfc1 = pd.DataFrame({'x': x_test, 'y':pb1})\r\n",
        "\r\n",
        "plt.scatter(x_test,pb1) #Plot data test\r\n",
        "plt.scatter(df['x'],dfc['y'],color='red', linewidth=1)\r\n",
        "\r\n",
        "plt.xlabel('Years Experience')\r\n",
        "plt.ylabel(\"Salary\")\r\n",
        "plt.show()"
      ],
      "execution_count": null,
      "outputs": [
        {
          "output_type": "display_data",
          "data": {
            "image/png": "[encoded data removed]",
            "text/plain": [
              "<Figure size 432x288 with 1 Axes>"
            ]
          },
          "metadata": {
            "tags": [],
            "needs_background": "light"
          }
        }
      ]
    },
    {
      "cell_type": "code",
      "metadata": {
        "colab": {
          "base_uri": "https://localhost:8080/"
        },
        "id": "tD4Xdbupccbd",
        "outputId": "13d716f7-caa8-481e-cf22-6953160c268c"
      },
      "source": [
        "print(\"MENGHITUNG MSE\")\r\n",
        "y_pred = list(p);\r\n",
        "y_true = [91738,98273,101302,113812,109431,105582,116969,112635,122391,121872];\r\n",
        "print(\"Hasil prediksi = \", y_pred);\r\n",
        "print(\"Nilai Sebenarnya = \", y_true);\r\n",
        "print(\"Hasil perhitungan MSE\")\r\n",
        "mean_squared_error(y_true, y_pred)"
      ],
      "execution_count": null,
      "outputs": [
        {
          "output_type": "stream",
          "text": [
            "MENGHITUNG MSE\n",
            "Hasil prediksi =  [79842.53245812585, 81946.1522861023, 87555.8051607062, 89659.42498868264, 93165.45803531009, 95269.07786328654, 98775.11090991399, 99476.31751923947, 104384.76378451788, 105787.17700316885]\n",
            "Nilai Sebenarnya =  [91738, 98273, 101302, 113812, 109431, 105582, 116969, 112635, 122391, 121872]\n",
            "Hasil perhitungan MSE\n"
          ],
          "name": "stdout"
        },
        {
          "output_type": "execute_result",
          "data": {
            "text/plain": [
              "263841167.32916838"
            ]
          },
          "metadata": {
            "tags": []
          },
          "execution_count": 64
        }
      ]
    }
  ]
}